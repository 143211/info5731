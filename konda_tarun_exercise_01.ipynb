{
  "cells": [
    {
      "cell_type": "markdown",
      "metadata": {
        "id": "view-in-github"
      },
      "source": [
        "<a href=\"https://colab.research.google.com/github/unt-iialab/INFO5731_Spring2020/blob/master/In_class_exercise/In_class_exercise_01.ipynb\" target=\"_parent\"><img src=\"https://colab.research.google.com/assets/colab-badge.svg\" alt=\"Open In Colab\"/></a>"
      ]
    },
    {
      "cell_type": "markdown",
      "metadata": {
        "id": "DymRJbxDBCnf"
      },
      "source": [
        "# **This first In-class-exercise cover a variety of fundamental concepts in Python and are designed to help individuals improve their coding skills and problem-solving abilities.**\n",
        "\n",
        "The submission is due on 01/31/2024 11:59 PM. This submission is worth 40 points in total.\n"
      ]
    },
    {
      "cell_type": "markdown",
      "source": [
        "(1) Write a Python program that  prompts the user to input the length and width of a rectangle, and then calculates and displays the area of the rectangle."
      ],
      "metadata": {
        "id": "FBKvD6O_TY6e"
      }
    },
    {
      "cell_type": "code",
      "source": [
        "# enter the length and width of the rectangle\n",
        "length = float(input(\"Enter the length of the rectangle: \"))\n",
        "width = float(input(\"Enter the width of the rectangle: \"))\n",
        "\n",
        "#  to calculate the area of the rectangle\n",
        "area = length * width\n",
        "\n",
        "#  to display the area\n",
        "print(\"The area of the rectangle is:\", area)"
      ],
      "metadata": {
        "id": "cikVKDXdTbzE",
        "colab": {
          "base_uri": "https://localhost:8080/"
        },
        "outputId": "634980cb-c8ea-42bd-90db-3d09785489bb"
      },
      "execution_count": 21,
      "outputs": [
        {
          "output_type": "stream",
          "name": "stdout",
          "text": [
            "Enter the length of the rectangle: 10\n",
            "Enter the width of the rectangle: 5\n",
            "The area of the rectangle is: 50.0\n"
          ]
        }
      ]
    },
    {
      "cell_type": "markdown",
      "source": [
        "(2) Create a Python program that interactively takes two numerical inputs from the user and swaps their values without utilizing an extra variable."
      ],
      "metadata": {
        "id": "E9RqrlwdTfvl"
      }
    },
    {
      "cell_type": "code",
      "source": [
        "# enter two numerical inputs\n",
        "n1 = float(input(\"Enter the first number: \"))\n",
        "n2 = float(input(\"Enter the second number: \"))\n",
        "\n",
        "# Swap the values without using an another variable\n",
        "n1, n2 = n2, n1\n",
        "\n",
        "#  to display the swapped values\n",
        "print(\"After swapping:\")\n",
        "print(\"First number:\", n1)\n",
        "print(\"Second number:\", n2)"
      ],
      "metadata": {
        "id": "4XvRknixTh1g",
        "colab": {
          "base_uri": "https://localhost:8080/"
        },
        "outputId": "91933334-e4fd-47a0-9010-7abfd4b48522"
      },
      "execution_count": 22,
      "outputs": [
        {
          "output_type": "stream",
          "name": "stdout",
          "text": [
            "Enter the first number: 2\n",
            "Enter the second number: 3\n",
            "After swapping:\n",
            "First number: 3.0\n",
            "Second number: 2.0\n"
          ]
        }
      ]
    },
    {
      "cell_type": "markdown",
      "metadata": {
        "id": "03jb4GZsBkBS"
      },
      "source": [
        "(3) Write a Python script to determine and print the length of a user-input string."
      ]
    },
    {
      "cell_type": "code",
      "execution_count": 23,
      "metadata": {
        "id": "YaGLbSHHB8Ej",
        "colab": {
          "base_uri": "https://localhost:8080/"
        },
        "outputId": "95b59324-cd40-471b-e4d7-485ab05ac2c7"
      },
      "outputs": [
        {
          "output_type": "stream",
          "name": "stdout",
          "text": [
            "enter a string: tarun\n",
            "The length of the input string is: 5\n"
          ]
        }
      ],
      "source": [
        "# to input a string\n",
        "user_input = input(\"enter a string: \")\n",
        "\n",
        "# to calculate the length of the string\n",
        "length_of_string = len(user_input)\n",
        "\n",
        "# to print the length of the string\n",
        "print(\"The length of the input string is:\", length_of_string)\n"
      ]
    },
    {
      "cell_type": "markdown",
      "metadata": {
        "id": "jJDe71iLB616"
      },
      "source": [
        "(4) Construct a Python program that counts and displays the occurrences of each character in a given string.\n",
        "\n",
        "Sample String: 'openai.ai',\n",
        "\n",
        "Expected Result: {'a': 2, 'i': 2, '.': 1, 'o': 1, 'p': 1, 'e': 1, 'n': 1}"
      ]
    },
    {
      "cell_type": "code",
      "execution_count": 25,
      "metadata": {
        "id": "MtKskTzbCLaU",
        "colab": {
          "base_uri": "https://localhost:8080/"
        },
        "outputId": "49517b46-a38d-4904-bdcf-449c28788d54"
      },
      "outputs": [
        {
          "output_type": "stream",
          "name": "stdout",
          "text": [
            "{'o': 1, 'p': 1, 'e': 1, 'n': 1, '.': 1, 'c': 1, 'v': 1}\n"
          ]
        }
      ],
      "source": [
        "# Given string\n",
        "s1 = 'open.cv'\n",
        "\n",
        "# Dictionary to store the occurrence of each character\n",
        "char_count = {}\n",
        "\n",
        "# Loop through each character in the string\n",
        "for char in s1:\n",
        "    # If the character is already in the dictionary, increment its count\n",
        "    if char in char_count:\n",
        "        char_count[char] += 1\n",
        "    # Otherwise, add the character to the dictionary with a count of 1\n",
        "    else:\n",
        "        char_count[char] = 1\n",
        "\n",
        "# Display the occurrences of each character\n",
        "print(char_count)\n"
      ]
    },
    {
      "cell_type": "markdown",
      "metadata": {
        "id": "55W9AMdXCSpV"
      },
      "source": [
        "(5) Design a Python code to calculate the sum of all elements in a user-provided list."
      ]
    },
    {
      "cell_type": "code",
      "execution_count": 26,
      "metadata": {
        "id": "I57NXsauCec2",
        "colab": {
          "base_uri": "https://localhost:8080/"
        },
        "outputId": "4885fd41-6e31-40fa-c165-ee2a2e4012fb"
      },
      "outputs": [
        {
          "output_type": "stream",
          "name": "stdout",
          "text": [
            "Enter a list of numbers separated by spaces: 4 7 9 2 0 \n",
            "The sum of all elements in the list is: 22.0\n"
          ]
        }
      ],
      "source": [
        "# to input a list of numbers, separated by spaces\n",
        "user_input = input(\"Enter a list of numbers separated by spaces: \")\n",
        "\n",
        "# to convert input into a list of integers or floats\n",
        "numbers_list = [float(num) for num in user_input.split()]\n",
        "\n",
        "# to calculate the sum of all elements in the list\n",
        "total_sum = sum(numbers_list)\n",
        "\n",
        "# to display the sum\n",
        "print(\"The sum of all elements in the list is:\", total_sum)\n"
      ]
    },
    {
      "cell_type": "markdown",
      "metadata": {
        "id": "4ulBZ6yhCi9F"
      },
      "source": [
        "(6) Write a Python program that modifies a given string by replacing all occurrences of its first character with '$', excluding the first character itself.\n",
        "\n",
        "\n",
        "Sample String : 'restart‘,\n",
        "\n",
        "Expected Result : 'resta\\$t'"
      ]
    },
    {
      "cell_type": "code",
      "execution_count": 28,
      "metadata": {
        "id": "Fj0XhwbBCw2o",
        "colab": {
          "base_uri": "https://localhost:8080/"
        },
        "outputId": "5d572b04-5fe2-48f9-ff4c-553c9d87715d"
      },
      "outputs": [
        {
          "output_type": "stream",
          "name": "stdout",
          "text": [
            "Expected Result: toma$o\n"
          ]
        }
      ],
      "source": [
        "def replace_first_character(s):\n",
        "    # Check if string is not empty to avoid IndexError\n",
        "    if s:\n",
        "        # Capture the first character\n",
        "        first_character = s[0]\n",
        "        # Replace all occurrences of the first character in the rest of the string with '$'\n",
        "        modified_string = first_character + s[1:].replace(first_character, '$')\n",
        "        return modified_string\n",
        "    else:\n",
        "        return s  # Return the original string if it's empty\n",
        "\n",
        "# Sample string\n",
        "sample_string = 'tomato'\n",
        "\n",
        "# Get the expected result\n",
        "result = replace_first_character(sample_string)\n",
        "\n",
        "# Display the result\n",
        "print(\"Expected Result:\", result)\n"
      ]
    },
    {
      "cell_type": "markdown",
      "source": [
        "(7) Write a Python program using a while loop to compute the factorial of a user-supplied number."
      ],
      "metadata": {
        "id": "qVXA3q7ET5JI"
      }
    },
    {
      "cell_type": "code",
      "source": [
        "#need to input a number\n",
        "n = int(input(\"Enter a number to compute its factorial: \"))\n",
        "\n",
        "# Initialize the factorial result to 1\n",
        "factorial = 1\n",
        "\n",
        "# Check if the entered number is negative\n",
        "if n < 0:\n",
        "    print(\"Sorry, factorial does not exist for negative numbers.\")\n",
        "else:\n",
        "    # Compute the factorial using a while loop\n",
        "    while n > 1:\n",
        "        factorial *= n\n",
        "        n -= 1\n",
        "\n",
        "    # Display the factorial result\n",
        "    print(\"The factorial is:\", factorial)\n"
      ],
      "metadata": {
        "id": "Lbt7R6UkT7BA",
        "colab": {
          "base_uri": "https://localhost:8080/"
        },
        "outputId": "6d179b79-e15d-46c2-b9c2-87b7881c7181"
      },
      "execution_count": 29,
      "outputs": [
        {
          "output_type": "stream",
          "name": "stdout",
          "text": [
            "Enter a number to compute its factorial: 4\n",
            "The factorial is: 24\n"
          ]
        }
      ]
    },
    {
      "cell_type": "markdown",
      "source": [
        "(8) Create a program that accepts a list of numbers as input and outputs a new list containing only the even numbers."
      ],
      "metadata": {
        "id": "6YfbzXMNT--R"
      }
    },
    {
      "cell_type": "code",
      "source": [
        "# to input a list of numbers, separated by spaces\n",
        "u_i = input(\"Enter a list of numbers separated by spaces: \")\n",
        "\n",
        "# Convert the input into a list of integers\n",
        "n_l = [int(num) for num in u_i.split()]\n",
        "\n",
        "# Filter the list to include only even numbers\n",
        "e_n = [num for num in n_l if num % 2 == 0]\n",
        "\n",
        "# Display the list of even numbers\n",
        "print(\"Even numbers in the list:\", e_n)"
      ],
      "metadata": {
        "id": "54q7wMQPUAKu",
        "colab": {
          "base_uri": "https://localhost:8080/"
        },
        "outputId": "9cf329fc-bec6-4cc4-b851-2addca827ecd"
      },
      "execution_count": 30,
      "outputs": [
        {
          "output_type": "stream",
          "name": "stdout",
          "text": [
            "Enter a list of numbers separated by spaces: 1 4 7 9 8 \n",
            "Even numbers in the list: [4, 8]\n"
          ]
        }
      ]
    },
    {
      "cell_type": "markdown",
      "metadata": {
        "id": "_bIP7s1MCzue"
      },
      "source": [
        "\n",
        "(9) Design a Python function to check if a number is prime.\n"
      ]
    },
    {
      "cell_type": "code",
      "execution_count": 31,
      "metadata": {
        "id": "w79QilHXD3Mg",
        "colab": {
          "base_uri": "https://localhost:8080/"
        },
        "outputId": "c62cffb5-ba07-499b-8316-116f80347a07"
      },
      "outputs": [
        {
          "output_type": "stream",
          "name": "stdout",
          "text": [
            "Enter a number to check if it's prime: 5\n",
            "5 is a prime number.\n"
          ]
        }
      ],
      "source": [
        "def is_prime(n):\n",
        "    \"\"\"Check if a number is prime.\"\"\"\n",
        "    # prime number must be greater than 1\n",
        "    if n <= 1:\n",
        "        return False\n",
        "    # Check for factors other than 1 and n\n",
        "    for i in range(2, int(n**0.5) + 1):\n",
        "        if n % i == 0:\n",
        "            return False\n",
        "    return True\n",
        "\n",
        "# check\n",
        "number = int(input(\"Enter a number to check if it's prime: \"))\n",
        "if is_prime(number):\n",
        "    print(number, \"is a prime number.\")\n",
        "else:\n",
        "    print(number, \"is not a prime number.\")\n"
      ]
    },
    {
      "cell_type": "markdown",
      "metadata": {
        "id": "xCa2bK9aD4Q3"
      },
      "source": [
        "(10) Write a Python program to concatenate following dictionaries to create a new one.\n",
        "\n",
        "Sample Dictionary : dic1={1:10, 2:20}, dic2={3:30, 4:40}, dic3={5:50,6:60},\n",
        "\n",
        "Expected Result : {1: 10, 2: 20, 3: 30, 4: 40, 5: 50, 6: 60}\n"
      ]
    },
    {
      "cell_type": "code",
      "execution_count": 32,
      "metadata": {
        "id": "_z4aLqAbEET1",
        "colab": {
          "base_uri": "https://localhost:8080/"
        },
        "outputId": "2e71bda0-03ef-4420-c7bd-a9cbf2241256"
      },
      "outputs": [
        {
          "output_type": "stream",
          "name": "stdout",
          "text": [
            "Concatenated dictionary: {1: 10, 2: 20, 3: 30, 4: 40, 5: 50, 6: 60}\n"
          ]
        }
      ],
      "source": [
        "# Given dictionaries\n",
        "d1 = {1: 10, 2: 20}\n",
        "d2 = {3: 30, 4: 40}\n",
        "d3 = {5: 50, 6: 60}\n",
        "\n",
        "# Use dictionary unpacking to concatenate them into a new dictionary\n",
        "result_dictionary = {**d1, **d2, **d3}\n",
        "\n",
        "# Display the concatenated dictionary\n",
        "print(\"Concatenated dictionary:\", result_dictionary)\n"
      ]
    },
    {
      "cell_type": "markdown",
      "source": [
        "(11) Design a Python function that takes a tuple of integers as input and returns the largest and smallest elements."
      ],
      "metadata": {
        "id": "bkyZ2xSZUOst"
      }
    },
    {
      "cell_type": "code",
      "source": [
        "def find_min_max(numbers):\n",
        "    \"\"\"Return the smallest and largest elements in a tuple of integers.\"\"\"\n",
        "    if numbers:  # Check if the tuple is not empty\n",
        "        smallest = min(numbers)\n",
        "        largest = max(numbers)\n",
        "        return smallest, largest\n",
        "    else:\n",
        "        return None, None  # Return None if the tuple is empty\n",
        "\n",
        "# check\n",
        "numbers_tuple = (6, 4, 1, 3, 8, 7, 2)\n",
        "smallest, largest = find_min_max(numbers_tuple)\n",
        "print(\"Smallest number:\", smallest)\n",
        "print(\"Largest number:\", largest)"
      ],
      "metadata": {
        "id": "3FdLRBKOUQEd",
        "colab": {
          "base_uri": "https://localhost:8080/"
        },
        "outputId": "8896e36a-8f34-4201-fa7f-c5c184a9d734"
      },
      "execution_count": 34,
      "outputs": [
        {
          "output_type": "stream",
          "name": "stdout",
          "text": [
            "Smallest number: 1\n",
            "Largest number: 8\n"
          ]
        }
      ]
    },
    {
      "cell_type": "markdown",
      "source": [
        "(12) Write a Python program that counts the frequency of each character in a given string and stores it in a dictionary."
      ],
      "metadata": {
        "id": "O0TVi3gKUTpp"
      }
    },
    {
      "cell_type": "code",
      "source": [
        "def character_frequency(s):\n",
        "    \"\"\"Return a dictionary with the frequency of each character in the given string.\"\"\"\n",
        "    freq_dict = {}\n",
        "    for char in s:\n",
        "        if char in freq_dict:\n",
        "            freq_dict[char] += 1\n",
        "        else:\n",
        "            freq_dict[char] = 1\n",
        "    return freq_dict\n",
        "\n",
        "# check\n",
        "sample_string = \"tarun konda\"\n",
        "frequency = character_frequency(sample_string)\n",
        "print(\"Character frequency:\", frequency)"
      ],
      "metadata": {
        "id": "lAtfSfZXUU-h",
        "colab": {
          "base_uri": "https://localhost:8080/"
        },
        "outputId": "9c2f82ab-5a26-4778-91bf-8d5fbb59d177"
      },
      "execution_count": 36,
      "outputs": [
        {
          "output_type": "stream",
          "name": "stdout",
          "text": [
            "Character frequency: {'t': 1, 'a': 2, 'r': 1, 'u': 1, 'n': 2, ' ': 1, 'k': 1, 'o': 1, 'd': 1}\n"
          ]
        }
      ]
    },
    {
      "cell_type": "markdown",
      "metadata": {
        "id": "0v48Vqa7FrQh"
      },
      "source": [
        "(13) Implement a Python script to identify duplicate elements in a provided array of integers. Return -1 if there are no duplicates."
      ]
    },
    {
      "cell_type": "code",
      "execution_count": 37,
      "metadata": {
        "id": "7WEmgq-DF2P1",
        "colab": {
          "base_uri": "https://localhost:8080/"
        },
        "outputId": "cc44aa55-7a79-487a-d4be-902775fbdbb6"
      },
      "outputs": [
        {
          "output_type": "stream",
          "name": "stdout",
          "text": [
            "Duplicates: [8, 1, 4]\n"
          ]
        }
      ],
      "source": [
        "def find_duplicates(arr):\n",
        "    \"\"\"Return a list of duplicate elements in the given array, or -1 if there are no duplicates.\"\"\"\n",
        "    seen = set()\n",
        "    duplicates = set()\n",
        "\n",
        "    for num in arr:\n",
        "        if num in seen:\n",
        "            duplicates.add(num)\n",
        "        else:\n",
        "            seen.add(num)\n",
        "\n",
        "    if duplicates:\n",
        "        return list(duplicates)  # Convert the set of duplicates to a list\n",
        "    else:\n",
        "        return -1  # Return -1 if there are no duplicates\n",
        "\n",
        "# check\n",
        "array_of_integers = [3, 2, 4, 4, 5, 1, 8, 7, 8, 1]\n",
        "result = find_duplicates(array_of_integers)\n",
        "print(\"Duplicates:\", result)\n"
      ]
    },
    {
      "cell_type": "markdown",
      "metadata": {
        "id": "vD5PYLMuGga_"
      },
      "source": [
        "(14) Write a Python script to find the common elements between two lists."
      ]
    },
    {
      "cell_type": "code",
      "execution_count": 38,
      "metadata": {
        "id": "t0D5kdJUGjjw",
        "colab": {
          "base_uri": "https://localhost:8080/"
        },
        "outputId": "2df7713c-3526-438e-fe86-9d81acda9200"
      },
      "outputs": [
        {
          "output_type": "stream",
          "name": "stdout",
          "text": [
            "Common elements: [5, 6]\n"
          ]
        }
      ],
      "source": [
        "def find_common_elements(l1,l2):\n",
        "    \"\"\"Return a list of common elements between two lists.\"\"\"\n",
        "    # Convert lists to sets to find the common elements\n",
        "    common_elements = set(l1) & set(l2)\n",
        "    # Convert the set back to a list\n",
        "    return list(common_elements)\n",
        "\n",
        "# check\n",
        "l1 = [1, 2, 3, 5, 6]\n",
        "l2 = [4, 5, 6, 7, 8]\n",
        "\n",
        "common_elements = find_common_elements(l1, l2)\n",
        "print(\"Common elements:\", common_elements)\n"
      ]
    },
    {
      "cell_type": "markdown",
      "metadata": {
        "id": "uHkd-y5VhVWC"
      },
      "source": [
        "(15) Write a Python program to randomly divide the students in this class into six groups for term projects, each group should have at least 4 students but no more than 6 students (including 6).\n",
        "\n",
        "Here is the students list:\n",
        "\n",
        "student_list_spring_2024=[rb0846,\n",
        "ac1964,\n",
        "hc0612,\n",
        "md0912,\n",
        "ad1198,\n",
        "md0894,\n",
        "md0825,\n",
        "vg0598,\n",
        "vg0433,\n",
        "mh1068,\n",
        "yj0173,\n",
        "pk0553,\n",
        "tk0411,\n",
        "srk0204,\n",
        "sk2922,\n",
        "sk2936,\n",
        "mk1302,\n",
        "mk1317,\n",
        "tk0412,\n",
        "vk0656,\n",
        "sm2985,\n",
        "mm2372,\n",
        "un0045,\n",
        "an0892,\n",
        "sn0913,\n",
        "gp0252,\n",
        "ap1484,\n",
        "mr1765,\n",
        "sr1385,\n",
        "sr1335,\n",
        "hs0665,\n",
        "ms2060,\n",
        "gt0217,\n",
        "nt0385,\n",
        "tv0186,\n",
        "sv1394,\n",
        "sv1752,\n",
        "sv1555,\n",
        "sy0594\n",
        "]\n"
      ]
    },
    {
      "cell_type": "code",
      "execution_count": 44,
      "metadata": {
        "id": "3iGbmcOBhTwy",
        "colab": {
          "base_uri": "https://localhost:8080/"
        },
        "outputId": "1ae9f286-7d58-4358-a0b5-0895e6a7ad69"
      },
      "outputs": [
        {
          "output_type": "stream",
          "name": "stdout",
          "text": [
            "Group 1: ['an0892', 'nt0385', 'md0912', 'pk0553']\n",
            "Group 2: ['yj0173', 'sv1394', 'sr1385', 'hs0665', 'ms2060']\n",
            "Group 3: ['un0045', 'ap1484', 'mm2372', 'tk0411', 'ad1198']\n",
            "Group 4: ['mh1068', 'tv0186', 'sn0913', 'sr1335', 'sm2985', 'gp0252']\n",
            "Group 5: ['sv1752', 'mr1765', 'vk0656', 'mk1302', 'sy0594']\n",
            "Group 6: ['gt0217', 'hc0612', 'rb0846', 'sv1555']\n",
            "Group 7: ['srk0204', 'tk0412', 'md0894', 'md0825', 'vg0433', 'sk2922']\n",
            "Group 8: ['sk2936', 'mk1317', 'ac1964', 'vg0598']\n"
          ]
        }
      ],
      "source": [
        "import random\n",
        "\n",
        "# for reproducibility\n",
        "random.seed(42)\n",
        "\n",
        "# List of student IDs\n",
        "student_list = [\n",
        "    \"rb0846\", \"ac1964\", \"hc0612\", \"md0912\", \"ad1198\", \"md0894\", \"md0825\", \"vg0598\", \"vg0433\", \"mh1068\",\n",
        "    \"yj0173\", \"pk0553\", \"tk0411\", \"srk0204\", \"sk2922\", \"sk2936\", \"mk1302\", \"mk1317\", \"tk0412\", \"vk0656\",\n",
        "    \"sm2985\", \"mm2372\", \"un0045\", \"an0892\", \"sn0913\", \"gp0252\", \"ap1484\", \"mr1765\", \"sr1385\", \"sr1335\",\n",
        "    \"hs0665\", \"ms2060\", \"gt0217\", \"nt0385\", \"tv0186\", \"sv1394\", \"sv1752\", \"sv1555\", \"sy0594\"\n",
        "]\n",
        "\n",
        "# Randomly shuffle the student list to ensure randomness\n",
        "random.shuffle(student_list)\n",
        "\n",
        "# Function to divide students into groups of 4 to 6\n",
        "def divide_into_groups(students, min_size=4, max_size=6):\n",
        "    groups = []\n",
        "    while students:\n",
        "        group_size = random.randint(min_size, min(max_size, len(students)))  # Ensure groups are within required size\n",
        "        group = students[:group_size]\n",
        "        groups.append(group)\n",
        "        students = students[group_size:]\n",
        "    return groups\n",
        "\n",
        "# Divide the students into groups\n",
        "groups = divide_into_groups(student_list)\n",
        "\n",
        "# Display the groups\n",
        "for i, group in enumerate(groups, start=1):\n",
        "    print(f\"Group {i}: {group}\")"
      ]
    },
    {
      "cell_type": "markdown",
      "metadata": {
        "id": "fmZ9vX20Qs3d"
      },
      "source": [
        "(16) Create a program that takes a positive integer 'n' as input and prints the count of even numbers from 1 to 'n'. Optimize the loop using the break statement."
      ]
    },
    {
      "cell_type": "code",
      "execution_count": 45,
      "metadata": {
        "id": "W8Jw6sWMQs3d",
        "colab": {
          "base_uri": "https://localhost:8080/"
        },
        "outputId": "e79c9425-e92e-4449-9967-4edca1ebb75a"
      },
      "outputs": [
        {
          "output_type": "stream",
          "name": "stdout",
          "text": [
            "Enter a positive integer: 4\n",
            "Count of even numbers from 1 to 4 : 2\n"
          ]
        }
      ],
      "source": [
        "def count_even_num(n):\n",
        "    # The count of even numbers from 1 to n is n // 2\n",
        "    return n // 2\n",
        "\n",
        "# Taking input from the user\n",
        "n = int(input(\"Enter a positive integer: \"))\n",
        "\n",
        "# Printing the count of even numbers\n",
        "print(\"Count of even numbers from 1 to\", n, \":\", count_even_num(n))\n"
      ]
    },
    {
      "cell_type": "markdown",
      "metadata": {
        "id": "hvq4APMhQs3d"
      },
      "source": [
        "(17) Develop a Python function called 'count_vowels' that takes a string as input and returns the count of vowels (both lowercase and uppercase) present in the string, ignoring spaces and non-alphabetic characters."
      ]
    },
    {
      "cell_type": "code",
      "execution_count": 46,
      "metadata": {
        "id": "ZnoxhSglQs3d",
        "colab": {
          "base_uri": "https://localhost:8080/"
        },
        "outputId": "c694ab30-4330-4b72-fb49-9cec8f849a7d"
      },
      "outputs": [
        {
          "output_type": "stream",
          "name": "stdout",
          "text": [
            "The count of vowels in the string is: 3\n"
          ]
        }
      ],
      "source": [
        "def count_vow(s):\n",
        "    # Define a set of vowels, both uppercase and lowercase\n",
        "    vowels = set(\"aeiouAEIOU\")\n",
        "    # Initialize a count variable to 0\n",
        "    count = 0\n",
        "    # Iterate over each character in the string\n",
        "    for char in s:\n",
        "        # Check if the character is a vowel\n",
        "        if char in vowels:\n",
        "            # Increment the count if the character is a vowel\n",
        "            count += 1\n",
        "    # Return the total count of vowels found\n",
        "    return count\n",
        "\n",
        "# check\n",
        "sample_string = \"Hello, World!\"\n",
        "print(\"The count of vowels in the string is:\", count_vow(sample_string))\n"
      ]
    },
    {
      "cell_type": "markdown",
      "source": [
        "(18) Create a custom exception named ValueTooSmallError in Python. Write a program that takes user input for an age, and if the entered age is less than 18, raise the ValueTooSmallError with an appropriate error message."
      ],
      "metadata": {
        "id": "55FWoSJPVVM6"
      }
    },
    {
      "cell_type": "code",
      "source": [
        "# 1: custom exception\n",
        "class ValueTooSmallError(Exception):\n",
        "    \"\"\"Exception raised for errors in the input age.\n",
        "\n",
        "    Attributes:\n",
        "        message -- explanation of the error\n",
        "    \"\"\"\n",
        "\n",
        "    def __init__(self, message=\"Value is soo small\"):\n",
        "        self.message = message\n",
        "        super().__init__(self.message)\n",
        "\n",
        "# 2: Program to check the age\n",
        "def check_age(age):\n",
        "    if age < 18:\n",
        "        # Step 3: Raise the custom exception if age is less than 18\n",
        "        raise ValueTooSmallError(\"The age is less than 18\")\n",
        "    else:\n",
        "        return \"Age is acceptable.\"\n",
        "\n",
        "# Taking user input\n",
        "try:\n",
        "    user_age = int(input(\"Enter your age: \"))\n",
        "    result = check_age(user_age)\n",
        "    print(result)\n",
        "except ValueError:\n",
        "    print(\" enter a valid integer for age.\")\n",
        "except ValueTooSmallError as e:\n",
        "    print(e)\n"
      ],
      "metadata": {
        "id": "hwtr1wZmVX5A",
        "colab": {
          "base_uri": "https://localhost:8080/"
        },
        "outputId": "90426199-21ad-401e-dd7a-18305300376e"
      },
      "execution_count": 47,
      "outputs": [
        {
          "output_type": "stream",
          "name": "stdout",
          "text": [
            "Enter your age: 22\n",
            "Age is acceptable.\n"
          ]
        }
      ]
    },
    {
      "cell_type": "markdown",
      "source": [
        "(19) Develop a script that reverses a given string without using built-in reverse functions."
      ],
      "metadata": {
        "id": "Q9ecagcaVazW"
      }
    },
    {
      "cell_type": "code",
      "source": [
        "def reverse_s(s):\n",
        "    # Initialize an empty string to store the reversed string\n",
        "    reversed_s = \"\"\n",
        "    # Iterate over the string in reverse order using a loop\n",
        "    for char in s:\n",
        "        reversed_s = char + reversed_s\n",
        "    return reversed_s\n",
        "\n",
        "# check\n",
        "input_string = \"tarun konda\"\n",
        "reversed_s = reverse_s(input_string)\n",
        "print(\"Original string:\", input_string)\n",
        "print(\"Reversed string:\", reversed_s)\n"
      ],
      "metadata": {
        "id": "gycgckoAVZjR",
        "colab": {
          "base_uri": "https://localhost:8080/"
        },
        "outputId": "3a561d2d-ef05-40a8-d981-ed5a192eb5b2"
      },
      "execution_count": 49,
      "outputs": [
        {
          "output_type": "stream",
          "name": "stdout",
          "text": [
            "Original string: tarun konda\n",
            "Reversed string: adnok nurat\n"
          ]
        }
      ]
    },
    {
      "cell_type": "markdown",
      "source": [
        "(20) Implement a Python script to generate a random password of a specified length."
      ],
      "metadata": {
        "id": "ZFG6RibifMLu"
      }
    },
    {
      "cell_type": "code",
      "source": [
        "import random\n",
        "import string\n",
        "\n",
        "def random_password(length):\n",
        "    # Define the possible character set for the password\n",
        "    characters = string.ascii_letters + string.digits + string.punctuation\n",
        "    # Randomly select characters from the set and join them into a password string\n",
        "    password = ''.join(random.choice(characters) for _ in range(length))\n",
        "    return password\n",
        "\n",
        "# Specify the desired length of the password\n",
        "password_length = 16 # For example, generate a 12-character password\n",
        "\n",
        "# Generate the password\n",
        "password = random_password(password_length)\n",
        "print(\"Generated password:\", password)"
      ],
      "metadata": {
        "id": "BFVrkEi9fNiD",
        "colab": {
          "base_uri": "https://localhost:8080/"
        },
        "outputId": "7aebcc4b-cf60-40e9-ce17-d29a730fcea8"
      },
      "execution_count": 51,
      "outputs": [
        {
          "output_type": "stream",
          "name": "stdout",
          "text": [
            "Generated password: if[DLkDmWJ6>UuVT\n"
          ]
        }
      ]
    },
    {
      "cell_type": "markdown",
      "source": [
        "# Try these questions:"
      ],
      "metadata": {
        "id": "6SmvS7nSfbj8"
      }
    },
    {
      "cell_type": "markdown",
      "source": [
        "(21) Define a base class called 'Vehicle' with attributes make and model. Create a derived class Car that inherits from Vehicle and has an additional attribute 'num_doors'. Demonstrate an example of creating an instance of the 'Car' class and accessing its attributes."
      ],
      "metadata": {
        "id": "cboAr5pEWUf5"
      }
    },
    {
      "cell_type": "code",
      "source": [
        "#  the base class Vehicle\n",
        "class Vehicle:\n",
        "    def __init__(self, make, model):\n",
        "        self.make = make\n",
        "        self.model = model\n",
        "\n",
        "#  the derived class Car that inherits from Vehicle\n",
        "class Car(Vehicle):\n",
        "    def __init__(self, make, model, num_doors):\n",
        "        # Call the constructor of the parent class Vehicle\n",
        "        super().__init__(make, model)\n",
        "        # Initialize the additional attribute specific to Car\n",
        "        self.num_doors = num_doors\n",
        "\n",
        "# Example of creating an instance of the Car class\n",
        "my_car = Car(\"nisan\", \"rogue\", 4)\n",
        "\n",
        "# Accessing attributes of the my_car instance\n",
        "print(\"Make:\", my_car.make)\n",
        "print(\"Model:\", my_car.model)\n",
        "print(\"Number of Doors:\", my_car.num_doors)\n"
      ],
      "metadata": {
        "id": "phs9gciMWWAW",
        "colab": {
          "base_uri": "https://localhost:8080/"
        },
        "outputId": "88a4e5d8-e643-46d0-a3b5-06f625cc3241"
      },
      "execution_count": 52,
      "outputs": [
        {
          "output_type": "stream",
          "name": "stdout",
          "text": [
            "Make: nisan\n",
            "Model: rogue\n",
            "Number of Doors: 4\n"
          ]
        }
      ]
    },
    {
      "cell_type": "markdown",
      "source": [
        "(22) Create a class called 'Shape' with a method calculate_area(). Implement two derived classes 'Circle' and 'Rectangle' that inherit from Shape and override the calculate_area() method. Demonstrate polymorphism by creating instances of both derived classes and calling the calculate_area() method."
      ],
      "metadata": {
        "id": "J8HHefNtePwd"
      }
    },
    {
      "cell_type": "code",
      "source": [
        "import math\n",
        "\n",
        "# Base class\n",
        "class Shape:\n",
        "    def calculate_area(self):\n",
        "        pass\n",
        "\n",
        "# Derived class for Circle\n",
        "class Circle(Shape):\n",
        "    def __init__(self, radius):\n",
        "        self.radius = radius\n",
        "\n",
        "    def calculate_area(self):\n",
        "        return math.pi * (self.radius ** 2)\n",
        "\n",
        "# Derived class for Rectangle\n",
        "class Rectangle(Shape):\n",
        "    def __init__(self, length, width):\n",
        "        self.length = length\n",
        "        self.width = width\n",
        "\n",
        "    def calculate_area(self):\n",
        "        return self.length * self.width\n",
        "\n",
        "# Demonstrate polymorphism\n",
        "def demonstrate_polymorphism(shape):\n",
        "    print(\"The area is:\", shape.calculate_area())\n",
        "\n",
        "# Create instances of both derived classes\n",
        "circle = Circle(4)  # Circle with radius 4\n",
        "rectangle = Rectangle(8, 4)  # Rectangle with length 8 and width 4\n",
        "\n",
        "# Call calculate_area method on both instances\n",
        "demonstrate_polymorphism(circle)\n",
        "demonstrate_polymorphism(rectangle)\n"
      ],
      "metadata": {
        "id": "btnMmUZDeRhS",
        "colab": {
          "base_uri": "https://localhost:8080/"
        },
        "outputId": "0fca4721-33c2-40fd-d161-d1e8b0ff7576"
      },
      "execution_count": 54,
      "outputs": [
        {
          "output_type": "stream",
          "name": "stdout",
          "text": [
            "The area is: 50.26548245743669\n",
            "The area is: 32\n"
          ]
        }
      ]
    },
    {
      "cell_type": "markdown",
      "source": [
        "(23) Write a Python program that prompts the user to enter two numbers and perform a division operation. Handle exceptions for both zero division and invalid input (non-numeric input). Display appropriate error messages for each type of exception and ensure the program does not crash due to these errors."
      ],
      "metadata": {
        "id": "z0oqEAlTeMUS"
      }
    },
    {
      "cell_type": "code",
      "source": [
        "def perform_div():\n",
        "    try:\n",
        "        # Prompt the user for two numbers\n",
        "        n1 = float(input(\"first number: \"))\n",
        "        n2 = float(input(\"second number: \"))\n",
        "\n",
        "        # Perform the division\n",
        "        result = n1 / n2\n",
        "\n",
        "        # Display the result\n",
        "        print(f\"The result of dividing {n1} by {n2} is {result}\")\n",
        "\n",
        "    except ZeroDivisionError:\n",
        "        # Handle the case where the second number is zero\n",
        "        print(\"Error: Cannot divide by zero.\")\n",
        "    except ValueError:\n",
        "        # Handle the case where the input is not a number\n",
        "        print(\"Error: Please enter a valid number.\")\n",
        "\n",
        "# Call the function to perform the division\n",
        "perform_div()"
      ],
      "metadata": {
        "id": "yjdc1zM1eMAs",
        "colab": {
          "base_uri": "https://localhost:8080/"
        },
        "outputId": "aff1ead2-5ccc-4c17-da34-134a110d75bf"
      },
      "execution_count": 55,
      "outputs": [
        {
          "output_type": "stream",
          "name": "stdout",
          "text": [
            "first number: 2\n",
            "second number: 5\n",
            "The result of dividing 2.0 by 5.0 is 0.4\n"
          ]
        }
      ]
    },
    {
      "cell_type": "markdown",
      "source": [
        "# Mandatory Question"
      ],
      "metadata": {
        "id": "sZOhks1dXWEe"
      }
    },
    {
      "cell_type": "markdown",
      "source": [
        "**Important:**\n",
        "Reflecting on the first three lectures and the exercises you've completed, please provide feedback on your learning experience. Share your thoughts on whether the material covered was clear, the exercises were helpful, and if you feel more confident in applying Python programming concepts. Additionally, mention any specific areas where you would like more clarification or topics you would like to explore further in future lectures. Your feedback is valuable in shaping the course for an effective learning journey."
      ],
      "metadata": {
        "id": "eqmHVEwaWhbV"
      }
    },
    {
      "cell_type": "markdown",
      "source": [
        "Write your response here."
      ],
      "metadata": {
        "id": "HlpXOT9wXQAd"
      }
    },
    {
      "cell_type": "code",
      "source": [
        "the lectures were great and the guest lectures from the students is a innovative idea and that is helping me in building the cofidence and also the job opportunities point of view from now is a great idea. The syllabus is going good so far and am loving the class."
      ],
      "metadata": {
        "id": "Dq2aOZU7XIke"
      },
      "execution_count": null,
      "outputs": []
    }
  ],
  "metadata": {
    "colab": {
      "provenance": []
    },
    "kernelspec": {
      "display_name": "Python 3 (ipykernel)",
      "language": "python",
      "name": "python3"
    },
    "language_info": {
      "codemirror_mode": {
        "name": "ipython",
        "version": 3
      },
      "file_extension": ".py",
      "mimetype": "text/x-python",
      "name": "python",
      "nbconvert_exporter": "python",
      "pygments_lexer": "ipython3",
      "version": "3.9.12"
    }
  },
  "nbformat": 4,
  "nbformat_minor": 0
}